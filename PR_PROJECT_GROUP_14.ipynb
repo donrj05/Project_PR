{
  "nbformat": 4,
  "nbformat_minor": 0,
  "metadata": {
    "colab": {
      "name": "PR_PROJECT_GROUP_14",
      "provenance": [],
      "collapsed_sections": [],
      "include_colab_link": true
    },
    "kernelspec": {
      "name": "python3",
      "display_name": "Python 3"
    }
  },
  "cells": [
    {
      "cell_type": "markdown",
      "metadata": {
        "id": "view-in-github",
        "colab_type": "text"
      },
      "source": [
        "<a href=\"https://colab.research.google.com/github/donrj05/Project_PR/blob/main/PR_PROJECT_GROUP_14.ipynb\" target=\"_parent\"><img src=\"https://colab.research.google.com/assets/colab-badge.svg\" alt=\"Open In Colab\"/></a>"
      ]
    },
    {
      "cell_type": "code",
      "metadata": {
        "id": "KDsIUR5EObcL"
      },
      "source": [
        "#run the cells in order as no cell is connected to another\r\n",
        "#created by group14 of pr team\r\n",
        "#first svm gaussian classifier,then k nearest neighbours and then PCA done in svm gaussian classifier\r\n",
        "#it would be better if it is run in jupyter notebook or google collab\r\n",
        "import numpy as np\r\n",
        "import matplotlib.pyplot as plt\r\n",
        "import matplotlib.colors as colors              \r\n",
        "from sklearn.utils import resample\r\n",
        "from sklearn.model_selection import train_test_split\r\n",
        "from sklearn.preprocessing import scale\r\n",
        "from sklearn import svm\r\n",
        "from sklearn.svm import SVC\r\n",
        "from sklearn.model_selection import GridSearchCV\r\n",
        "from sklearn.metrics import confusion_matrix\r\n",
        "from sklearn.metrics import plot_confusion_matrix\r\n",
        "from sklearn import datasets\r\n",
        "\r\n",
        "from sklearn.metrics import accuracy_score\r\n",
        "from sklearn.neighbors import KNeighborsClassifier\r\n",
        "from sklearn.preprocessing import StandardScaler\r\n",
        "\r\n",
        "from sklearn.decomposition import PCA# Make an instance of the Model\r\n",
        "\r\n",
        "\r\n",
        "import operator\r\n"
      ],
      "execution_count": null,
      "outputs": []
    },
    {
      "cell_type": "code",
      "metadata": {
        "colab": {
          "base_uri": "https://localhost:8080/"
        },
        "id": "h9U_iTwVPOUq",
        "outputId": "2b1adfbb-ffe6-408a-f9d8-eaf9c63d1941"
      },
      "source": [
        "x1=np.loadtxt('http://archive.ics.uci.edu/ml/machine-learning-databases/optdigits/optdigits.tra',delimiter=\",\")#training data\r\n",
        "x2=np.loadtxt('http://archive.ics.uci.edu/ml/machine-learning-databases/optdigits/optdigits.tes',delimiter=\",\")#testing data\r\n",
        "print(len(x1))\r\n",
        "print(len(x2))"
      ],
      "execution_count": null,
      "outputs": [
        {
          "output_type": "stream",
          "text": [
            "3823\n",
            "1797\n"
          ],
          "name": "stdout"
        }
      ]
    },
    {
      "cell_type": "code",
      "metadata": {
        "colab": {
          "base_uri": "https://localhost:8080/"
        },
        "id": "uxUVV4ewPmVI",
        "outputId": "d9040074-92d7-4ccc-f634-e5041f2b6f1f"
      },
      "source": [
        "#separating labels from data \r\n",
        "#in optdigits.tra,65th column is class label \r\n",
        "count=0\r\n",
        "x_train=[]\r\n",
        "y_train=[]\r\n",
        "for i in x1:\r\n",
        "    x=[]\r\n",
        "    for j in i:\r\n",
        "        count=count+1\r\n",
        "        if count<65:\r\n",
        "            x.append(j)\r\n",
        "        elif count==65:\r\n",
        "            y_train.append(j)\r\n",
        "            x_train.append(x)\r\n",
        "            count=0\r\n",
        "print(len(y_train))"
      ],
      "execution_count": null,
      "outputs": [
        {
          "output_type": "stream",
          "text": [
            "3823\n"
          ],
          "name": "stdout"
        }
      ]
    },
    {
      "cell_type": "code",
      "metadata": {
        "colab": {
          "base_uri": "https://localhost:8080/"
        },
        "id": "Q4NmTkgAPquv",
        "outputId": "4f17c75a-7f0c-4d4b-9c82-b3c0b655e670"
      },
      "source": [
        "#in optdigits.tes 65th column is label\r\n",
        "count=0\r\n",
        "x_test=[]\r\n",
        "y_test=[]\r\n",
        "for i in x2:\r\n",
        "    x=[]\r\n",
        "    for j in i:\r\n",
        "        count=count+1\r\n",
        "        if count<65:\r\n",
        "            x.append(j)\r\n",
        "        elif count==65:\r\n",
        "            y_test.append(j)\r\n",
        "            x_test.append(x)\r\n",
        "            count=0\r\n",
        "print(len(x_test))"
      ],
      "execution_count": null,
      "outputs": [
        {
          "output_type": "stream",
          "text": [
            "1797\n"
          ],
          "name": "stdout"
        }
      ]
    },
    {
      "cell_type": "code",
      "metadata": {
        "colab": {
          "base_uri": "https://localhost:8080/"
        },
        "id": "S0vi611x_4n0",
        "outputId": "857e49d2-cf4d-463e-bbc0-6959b9fc37a4"
      },
      "source": [
        "#findout optimal parameters for gausian SVM\r\n",
        "param_grid=[\r\n",
        "    {'C' : [0.5,1,10,100,1000],\r\n",
        "     'gamma':['scale', 1, 0.1, 0.01, 0.001, 0.001],\r\n",
        "     'kernel':['rbf'] },\r\n",
        "]\r\n",
        "optimal_params= GridSearchCV(\r\n",
        "    SVC(),\r\n",
        "    param_grid,\r\n",
        "    cv=5,\r\n",
        "    scoring='accuracy',\r\n",
        "\r\n",
        ")\r\n",
        "optimal_params.fit(x_train, y_train)\r\n",
        "print(optimal_params.best_params_)"
      ],
      "execution_count": null,
      "outputs": [
        {
          "output_type": "stream",
          "text": [
            "{'C': 10, 'gamma': 0.001, 'kernel': 'rbf'}\n"
          ],
          "name": "stdout"
        }
      ]
    },
    {
      "cell_type": "code",
      "metadata": {
        "colab": {
          "base_uri": "https://localhost:8080/"
        },
        "id": "lRkCDGrWPstf",
        "outputId": "e5357421-1200-4afc-d575-e3cd046349d8"
      },
      "source": [
        "#create a gaussian classifier\r\n",
        "clf=svm.SVC(gamma=0.001,C=10)\r\n",
        "clf.fit(x_train,y_train)"
      ],
      "execution_count": null,
      "outputs": [
        {
          "output_type": "execute_result",
          "data": {
            "text/plain": [
              "SVC(C=10, break_ties=False, cache_size=200, class_weight=None, coef0=0.0,\n",
              "    decision_function_shape='ovr', degree=3, gamma=0.001, kernel='rbf',\n",
              "    max_iter=-1, probability=False, random_state=None, shrinking=True,\n",
              "    tol=0.001, verbose=False)"
            ]
          },
          "metadata": {
            "tags": []
          },
          "execution_count": 118
        }
      ]
    },
    {
      "cell_type": "code",
      "metadata": {
        "colab": {
          "base_uri": "https://localhost:8080/",
          "height": 406
        },
        "id": "ZUSsTxFLPwvV",
        "outputId": "614eb01f-9e14-4246-b54b-d1b23bbc44d6"
      },
      "source": [
        "#plotting confusion matrix\r\n",
        "plot_confusion_matrix(clf,\r\n",
        "                      x_test,\r\n",
        "                      y_test,\r\n",
        "                      values_format='d',\r\n",
        "                     )"
      ],
      "execution_count": null,
      "outputs": [
        {
          "output_type": "execute_result",
          "data": {
            "text/plain": [
              "<sklearn.metrics._plot.confusion_matrix.ConfusionMatrixDisplay at 0x7fb06d18a828>"
            ]
          },
          "metadata": {
            "tags": []
          },
          "execution_count": 119
        },
        {
          "output_type": "display_data",
          "data": {
            "image/png": "[encoded data removed]",
            "text/plain": [
              "<Figure size 1080x432 with 2 Axes>"
            ]
          },
          "metadata": {
            "tags": [],
            "needs_background": "light"
          }
        }
      ]
    },
    {
      "cell_type": "code",
      "metadata": {
        "colab": {
          "base_uri": "https://localhost:8080/",
          "height": 556
        },
        "id": "yJBllwNOP0gd",
        "outputId": "e6393625-4a68-49e7-cae9-e10562b2dbef"
      },
      "source": [
        "#showing related data of 1stimage \r\n",
        "z=x_test[0]\r\n",
        "x11=np.array(z)\r\n",
        "x1_new=x11.reshape(8,8)\r\n",
        "print(x1_new)\r\n",
        "print(len(x1_new))\r\n",
        "plt.imshow(x1_new,cmap=plt.cm.gray_r,interpolation=\"nearest\")"
      ],
      "execution_count": null,
      "outputs": [
        {
          "output_type": "stream",
          "text": [
            "[[ 0.  0.  5. 13.  9.  1.  0.  0.]\n",
            " [ 0.  0. 13. 15. 10. 15.  5.  0.]\n",
            " [ 0.  3. 15.  2.  0. 11.  8.  0.]\n",
            " [ 0.  4. 12.  0.  0.  8.  8.  0.]\n",
            " [ 0.  5.  8.  0.  0.  9.  8.  0.]\n",
            " [ 0.  4. 11.  0.  1. 12.  7.  0.]\n",
            " [ 0.  2. 14.  5. 10. 12.  0.  0.]\n",
            " [ 0.  0.  6. 13. 10.  0.  0.  0.]]\n",
            "8\n"
          ],
          "name": "stdout"
        },
        {
          "output_type": "execute_result",
          "data": {
            "text/plain": [
              "<matplotlib.image.AxesImage at 0x7fb06cf44c88>"
            ]
          },
          "metadata": {
            "tags": []
          },
          "execution_count": 120
        },
        {
          "output_type": "display_data",
          "data": {
            "image/png": "[encoded data removed]",
            "text/plain": [
              "<Figure size 1080x432 with 1 Axes>"
            ]
          },
          "metadata": {
            "tags": [],
            "needs_background": "light"
          }
        }
      ]
    },
    {
      "cell_type": "code",
      "metadata": {
        "colab": {
          "base_uri": "https://localhost:8080/"
        },
        "id": "fphorYvXP5Q1",
        "outputId": "884121ab-4a6c-49d8-a6cd-fceba9f809d7"
      },
      "source": [
        "#predictions of testing data\r\n",
        "y_prediction=[]\r\n",
        "for q in x_test:\r\n",
        "    x=clf.predict([q])\r\n",
        "    y_prediction.append(x[0])\r\n",
        "#print(y_prediction[0])\r\n",
        "#print(y_test[0])\r\n",
        "print('accuracy percentage in gaussian SVM:',100*accuracy_score(y_test, y_prediction,normalize=True))\r\n",
        "print('no of correct predictions in gaussian SVM:',accuracy_score(y_test, y_prediction,normalize=False))"
      ],
      "execution_count": null,
      "outputs": [
        {
          "output_type": "stream",
          "text": [
            "accuracy percentage in gaussian SVM: 98.27490261547022\n",
            "no of correct predictions in gaussian SVM: 1766\n"
          ],
          "name": "stdout"
        }
      ]
    },
    {
      "cell_type": "code",
      "metadata": {
        "colab": {
          "base_uri": "https://localhost:8080/",
          "height": 406
        },
        "id": "5YLfudbsTRxV",
        "outputId": "d71b4d8d-1c50-4d58-fa2e-d41f15aa20c0"
      },
      "source": [
        "#creating a k-nearest neighbour classifier\r\n",
        "knn = KNeighborsClassifier(n_neighbors=5)\r\n",
        "knn.fit(x_train, y_train)\r\n",
        "#Predict the response for test dataset\r\n",
        "y_pred = knn.predict(x_test)\r\n",
        "#plot confusion matrix\r\n",
        "plot_confusion_matrix(knn,\r\n",
        "                      x_test,\r\n",
        "                      y_test,\r\n",
        "                      values_format='d',\r\n",
        "                     )\r\n",
        "accuracy_score(y_test, y_pred,normalize=False)"
      ],
      "execution_count": null,
      "outputs": [
        {
          "output_type": "execute_result",
          "data": {
            "text/plain": [
              "1759"
            ]
          },
          "metadata": {
            "tags": []
          },
          "execution_count": 122
        },
        {
          "output_type": "display_data",
          "data": {
            "image/png": "[encoded data removed]",
            "text/plain": [
              "<Figure size 1080x432 with 2 Axes>"
            ]
          },
          "metadata": {
            "tags": [],
            "needs_background": "light"
          }
        }
      ]
    },
    {
      "cell_type": "code",
      "metadata": {
        "colab": {
          "base_uri": "https://localhost:8080/"
        },
        "id": "E-32l96AVCNy",
        "outputId": "b86f42ea-5567-4d4e-a750-247016aba1e4"
      },
      "source": [
        "#checking the accuracies for different values of k\r\n",
        "for i in range(1,15):\r\n",
        "  knn = KNeighborsClassifier(n_neighbors=i)\r\n",
        "  knn.fit(x_train, y_train)\r\n",
        "  y_pred = knn.predict(x_test)\r\n",
        "  c=accuracy_score(y_test, y_pred,normalize=True)\r\n",
        "  d=accuracy_score(y_test,  y_pred,normalize=False)\r\n",
        "  print(' value of k:',i,'accuracy:',c,'no of correct predictions:',d)"
      ],
      "execution_count": null,
      "outputs": [
        {
          "output_type": "stream",
          "text": [
            " value of k: 1 accuracy: 0.9799666110183639 no of correct predictions: 1761\n",
            " value of k: 2 accuracy: 0.9738452977184195 no of correct predictions: 1750\n",
            " value of k: 3 accuracy: 0.9782971619365609 no of correct predictions: 1758\n",
            " value of k: 4 accuracy: 0.9766277128547579 no of correct predictions: 1755\n",
            " value of k: 5 accuracy: 0.9788536449638287 no of correct predictions: 1759\n",
            " value of k: 6 accuracy: 0.9777406789092933 no of correct predictions: 1757\n",
            " value of k: 7 accuracy: 0.9766277128547579 no of correct predictions: 1755\n",
            " value of k: 8 accuracy: 0.9766277128547579 no of correct predictions: 1755\n",
            " value of k: 9 accuracy: 0.9771841958820257 no of correct predictions: 1756\n",
            " value of k: 10 accuracy: 0.9755147468002225 no of correct predictions: 1753\n",
            " value of k: 11 accuracy: 0.9794101279910963 no of correct predictions: 1760\n",
            " value of k: 12 accuracy: 0.9744017807456873 no of correct predictions: 1751\n",
            " value of k: 13 accuracy: 0.9738452977184195 no of correct predictions: 1750\n",
            " value of k: 14 accuracy: 0.9716193656093489 no of correct predictions: 1746\n"
          ],
          "name": "stdout"
        }
      ]
    },
    {
      "cell_type": "code",
      "metadata": {
        "id": "NVRpFZyxUWEn"
      },
      "source": [
        "scaler = StandardScaler()# Fit on training set only.\r\n",
        "x_train1=x_train.copy()\r\n",
        "scaler.fit(x_train1)# Apply transform to both the training set and the test set.\r\n",
        "train_img = scaler.transform(x_train1)\r\n",
        "x_test1=x_test.copy()\r\n",
        "test_img = scaler.transform(x_test1)"
      ],
      "execution_count": null,
      "outputs": []
    },
    {
      "cell_type": "code",
      "metadata": {
        "id": "7U5M5Tu2Vt-0"
      },
      "source": [
        "pca = PCA()"
      ],
      "execution_count": null,
      "outputs": []
    },
    {
      "cell_type": "code",
      "metadata": {
        "colab": {
          "base_uri": "https://localhost:8080/"
        },
        "id": "HO-GCXeOVyS5",
        "outputId": "3bdfe281-52d5-43df-9986-1ec4ce87d17f"
      },
      "source": [
        "pca.fit(train_img)#training data only"
      ],
      "execution_count": null,
      "outputs": [
        {
          "output_type": "execute_result",
          "data": {
            "text/plain": [
              "PCA(copy=True, iterated_power='auto', n_components=None, random_state=None,\n",
              "    svd_solver='auto', tol=0.0, whiten=False)"
            ]
          },
          "metadata": {
            "tags": []
          },
          "execution_count": 126
        }
      ]
    },
    {
      "cell_type": "code",
      "metadata": {
        "id": "V8OrjQaqV2i3"
      },
      "source": [
        "train_img = pca.transform(train_img)\r\n",
        "test_img = pca.transform(test_img)"
      ],
      "execution_count": null,
      "outputs": []
    },
    {
      "cell_type": "code",
      "metadata": {
        "colab": {
          "base_uri": "https://localhost:8080/"
        },
        "id": "GwBn8z_dfbCQ",
        "outputId": "7935d027-e810-4056-dfea-b4d3da4053fd"
      },
      "source": [
        "print(len(pca.components_[0]))\r\n",
        "print(len(pca.explained_variance_ratio_))\r\n",
        "xx=pca.explained_variance_ratio_.copy()\r\n",
        "print(xx)"
      ],
      "execution_count": null,
      "outputs": [
        {
          "output_type": "stream",
          "text": [
            "64\n",
            "64\n",
            "[1.16390519e-01 1.05157939e-01 7.62637875e-02 5.71196171e-02\n",
            " 4.96873006e-02 4.64810382e-02 3.85458353e-02 3.37905063e-02\n",
            " 2.85103132e-02 2.63091579e-02 2.50359564e-02 2.40869073e-02\n",
            " 2.27882687e-02 2.09357664e-02 1.95580591e-02 1.89091193e-02\n",
            " 1.84338560e-02 1.80092864e-02 1.62215674e-02 1.56513412e-02\n",
            " 1.42523410e-02 1.37833414e-02 1.28868420e-02 1.12881932e-02\n",
            " 1.06152420e-02 1.01262128e-02 9.72703327e-03 9.29472138e-03\n",
            " 8.63324788e-03 8.24354471e-03 7.87725165e-03 7.12658067e-03\n",
            " 6.95497230e-03 6.29398177e-03 6.07751848e-03 5.92961085e-03\n",
            " 5.33856788e-03 4.88499246e-03 4.51338338e-03 4.46157597e-03\n",
            " 4.35509690e-03 4.01866465e-03 3.85701372e-03 3.45350213e-03\n",
            " 3.32455556e-03 3.09778534e-03 3.07226655e-03 2.77881179e-03\n",
            " 2.66685310e-03 2.56958541e-03 2.42814868e-03 2.35894807e-03\n",
            " 2.18329701e-03 2.07731606e-03 1.92919098e-03 1.80669826e-03\n",
            " 1.63250282e-03 1.53692560e-03 1.42054743e-03 1.23765977e-03\n",
            " 1.06561754e-03 9.33715516e-04 3.74917821e-33 5.27544613e-34]\n"
          ],
          "name": "stdout"
        }
      ]
    },
    {
      "cell_type": "code",
      "metadata": {
        "colab": {
          "base_uri": "https://localhost:8080/"
        },
        "id": "daXaKqHzffYB",
        "outputId": "b5a90fed-5463-4c18-eac4-a52101e9fd5c"
      },
      "source": [
        "f=[]\r\n",
        "w={}\r\n",
        "for i in range(0,64):\r\n",
        "    s='f'+str(i+1)\r\n",
        "    f.append(s)\r\n",
        "    w[s]=xx[i]\r\n",
        "print(w)\r\n",
        "#D= dict( sorted(w.items(), key=operator.itemgetter(1),reverse=True))\r\n",
        "#print(D)"
      ],
      "execution_count": null,
      "outputs": [
        {
          "output_type": "stream",
          "text": [
            "{'f1': 0.1163905188139957, 'f2': 0.10515793883047829, 'f3': 0.07626378753897901, 'f4': 0.05711961707785867, 'f5': 0.04968730061334485, 'f6': 0.046481038185388554, 'f7': 0.03854583533914422, 'f8': 0.03379050625802916, 'f9': 0.028510313238338407, 'f10': 0.0263091579323566, 'f11': 0.025035956437341304, 'f12': 0.02408690732076963, 'f13': 0.02278826868338936, 'f14': 0.02093576642721369, 'f15': 0.01955805911044582, 'f16': 0.018909119330281037, 'f17': 0.01843385595987383, 'f18': 0.018009286443747323, 'f19': 0.016221567354742842, 'f20': 0.015651341158281297, 'f21': 0.014252340989193868, 'f22': 0.013783341372902316, 'f23': 0.012886842020226438, 'f24': 0.011288193248378089, 'f25': 0.010615242006703064, 'f26': 0.010126212789588586, 'f27': 0.009727033265789225, 'f28': 0.009294721382252425, 'f29': 0.008633247877847883, 'f30': 0.00824354471156443, 'f31': 0.007877251645228232, 'f32': 0.0071265806686064736, 'f33': 0.006954972304800264, 'f34': 0.006293981768165195, 'f35': 0.006077518479954783, 'f36': 0.005929610851838911, 'f37': 0.005338567878652647, 'f38': 0.004884992460920976, 'f39': 0.004513383384561887, 'f40': 0.004461575966016641, 'f41': 0.004355096897304461, 'f42': 0.004018664647979854, 'f43': 0.0038570137220214156, 'f44': 0.0034535021287421686, 'f45': 0.003324555556143729, 'f46': 0.0030977853382622026, 'f47': 0.0030722665474023332, 'f48': 0.00277881179086365, 'f49': 0.0026668531038214404, 'f50': 0.0025695854070199014, 'f51': 0.002428148678367321, 'f52': 0.0023589480723518615, 'f53': 0.0021832970077043075, 'f54': 0.0020773160568179298, 'f55': 0.0019291909760841511, 'f56': 0.0018066982610387373, 'f57': 0.0016325028239768317, 'f58': 0.0015369255983553956, 'f59': 0.0014205474285902255, 'f60': 0.0012376597731139781, 'f61': 0.001065617541038514, 'f62': 0.0009337155158075939, 'f63': 3.749178205167148e-33, 'f64': 5.275446133710166e-34}\n"
          ],
          "name": "stdout"
        }
      ]
    },
    {
      "cell_type": "code",
      "metadata": {
        "colab": {
          "base_uri": "https://localhost:8080/",
          "height": 574
        },
        "id": "jUntwdczfjgM",
        "outputId": "b01bca84-4d6d-433b-9e54-060cd6fd012c"
      },
      "source": [
        "#plt.rcParams['figure.figsize']=(26,10)\r\n",
        "plt.bar(range(len(w)), list(w.values()), align='center')\r\n",
        "plt.xticks(range(len(w)), list(w.keys()))\r\n",
        "plt.ylim((0,0.145))\r\n",
        "plt.title('plotting feature with respet to their variance ')\r\n",
        "plt.show()"
      ],
      "execution_count": null,
      "outputs": [
        {
          "output_type": "display_data",
          "data": {
            "image/png": "[encoded data removed]",
            "text/plain": [
              "<Figure size 1872x720 with 1 Axes>"
            ]
          },
          "metadata": {
            "tags": [],
            "needs_background": "light"
          }
        }
      ]
    },
    {
      "cell_type": "code",
      "metadata": {
        "colab": {
          "base_uri": "https://localhost:8080/"
        },
        "id": "0fi9An8xV6vP",
        "outputId": "2cc10e36-9164-4603-a5b6-7838fa5369be"
      },
      "source": [
        "clf1=svm.SVC(gamma=0.001,C=10)\r\n",
        "clf1.fit(train_img,y_train)"
      ],
      "execution_count": null,
      "outputs": [
        {
          "output_type": "execute_result",
          "data": {
            "text/plain": [
              "SVC(C=10, break_ties=False, cache_size=200, class_weight=None, coef0=0.0,\n",
              "    decision_function_shape='ovr', degree=3, gamma=0.001, kernel='rbf',\n",
              "    max_iter=-1, probability=False, random_state=None, shrinking=True,\n",
              "    tol=0.001, verbose=False)"
            ]
          },
          "metadata": {
            "tags": []
          },
          "execution_count": 138
        }
      ]
    },
    {
      "cell_type": "code",
      "metadata": {
        "colab": {
          "base_uri": "https://localhost:8080/"
        },
        "id": "jQnCU2AlXOIA",
        "outputId": "9405d3ba-7092-4a4f-b7c8-068f08649ddb"
      },
      "source": [
        "#predictions on testing data\r\n",
        "y_img_prediction=[]\r\n",
        "for q in test_img:\r\n",
        "    x=clf1.predict([q])\r\n",
        "    y_img_prediction.append(x[0])\r\n",
        "\r\n",
        "#print(len(y_img_prediction))\r\n",
        "#print(y_img_prediction[0])\r\n",
        "print('accuracy:',100*accuracy_score(y_test, y_img_prediction,normalize=True))\r\n",
        "print('no of correct predictions:',accuracy_score(y_test, y_img_prediction,normalize=False))"
      ],
      "execution_count": null,
      "outputs": [
        {
          "output_type": "stream",
          "text": [
            "accuracy: 96.661101836394\n",
            "no of correct predictions: 1737\n"
          ],
          "name": "stdout"
        }
      ]
    },
    {
      "cell_type": "code",
      "metadata": {
        "colab": {
          "base_uri": "https://localhost:8080/",
          "height": 628
        },
        "id": "JgdOV05dEj6c",
        "outputId": "072ec452-51d5-4935-b382-1cd199160524"
      },
      "source": [
        "from sklearn.metrics import plot_confusion_matrix\r\n",
        "\r\n",
        "plot_confusion_matrix(clf1,\r\n",
        "                      test_img,\r\n",
        "                      y_test,\r\n",
        "                      values_format='d',\r\n",
        "                     )\r\n",
        "print('no of correct predictions:',accuracy_score(y_test, y_img_prediction,normalize=False))"
      ],
      "execution_count": null,
      "outputs": [
        {
          "output_type": "stream",
          "text": [
            "no of correct predictions: 1737\n"
          ],
          "name": "stdout"
        },
        {
          "output_type": "display_data",
          "data": {
            "image/png": "[encoded data removed]",
            "text/plain": [
              "<Figure size 1872x720 with 2 Axes>"
            ]
          },
          "metadata": {
            "tags": [],
            "needs_background": "light"
          }
        }
      ]
    }
  ]
}