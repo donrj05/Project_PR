{
  "nbformat": 4,
  "nbformat_minor": 0,
  "metadata": {
    "colab": {
      "name": "PR_PROJECT_GROUP_14",
      "provenance": [],
      "include_colab_link": true
    },
    "kernelspec": {
      "name": "python3",
      "display_name": "Python 3"
    }
  },
  "cells": [
    {
      "cell_type": "markdown",
      "metadata": {
        "id": "view-in-github",
        "colab_type": "text"
      },
      "source": [
        "<a href=\"https://colab.research.google.com/github/donrj05/Project_PR/blob/main/PR_PROJECT_GROUP_14.ipynb\" target=\"_parent\"><img src=\"https://colab.research.google.com/assets/colab-badge.svg\" alt=\"Open In Colab\"/></a>"
      ]
    },
    {
      "cell_type": "code",
      "metadata": {
        "id": "KDsIUR5EObcL"
      },
      "source": [
        "#run the cells in order as no cell is connected to another\r\n",
        "#created by group14 of pr team\r\n",
        "#first svm gaussian classifier,then k nearest neighbours and then PCA done in svm gaussian classifier\r\n",
        "import numpy as np\r\n",
        "import matplotlib.pyplot as plt\r\n",
        "import matplotlib.colors as colors              \r\n",
        "from sklearn.utils import resample\r\n",
        "from sklearn.model_selection import train_test_split\r\n",
        "from sklearn.preprocessing import scale\r\n",
        "from sklearn import svm\r\n",
        "from sklearn.svm import SVC\r\n",
        "from sklearn.model_selection import GridSearchCV\r\n",
        "from sklearn.metrics import confusion_matrix\r\n",
        "from sklearn.metrics import plot_confusion_matrix\r\n",
        "from sklearn import datasets\r\n",
        "\r\n",
        "from sklearn.metrics import accuracy_score\r\n",
        "from sklearn.neighbors import KNeighborsClassifier\r\n",
        "from sklearn.preprocessing import StandardScaler\r\n"
      ],
      "execution_count": null,
      "outputs": []
    },
    {
      "cell_type": "code",
      "metadata": {
        "colab": {
          "base_uri": "https://localhost:8080/"
        },
        "id": "h9U_iTwVPOUq",
        "outputId": "53dc3ce0-92c5-4029-811d-3b3755791dfd"
      },
      "source": [
        "x1=np.loadtxt('http://archive.ics.uci.edu/ml/machine-learning-databases/optdigits/optdigits.tra',delimiter=\",\")#training data\r\n",
        "x2=np.loadtxt('http://archive.ics.uci.edu/ml/machine-learning-databases/optdigits/optdigits.tes',delimiter=\",\")#testing data\r\n",
        "print(len(x1))\r\n",
        "print(len(x2))"
      ],
      "execution_count": null,
      "outputs": [
        {
          "output_type": "stream",
          "text": [
            "3823\n",
            "1797\n"
          ],
          "name": "stdout"
        }
      ]
    },
    {
      "cell_type": "code",
      "metadata": {
        "colab": {
          "base_uri": "https://localhost:8080/"
        },
        "id": "uxUVV4ewPmVI",
        "outputId": "4940678b-a530-4ad0-e3a6-63c734a94ff7"
      },
      "source": [
        "#separating labels from data \r\n",
        "#in optdigits.tra,65th column is class label \r\n",
        "count=0\r\n",
        "x_train=[]\r\n",
        "y_train=[]\r\n",
        "for i in x1:\r\n",
        "    x=[]\r\n",
        "    for j in i:\r\n",
        "        count=count+1\r\n",
        "        if count<65:\r\n",
        "            x.append(j)\r\n",
        "        elif count==65:\r\n",
        "            y_train.append(j)\r\n",
        "            x_train.append(x)\r\n",
        "            count=0\r\n",
        "print(len(y_train))"
      ],
      "execution_count": null,
      "outputs": [
        {
          "output_type": "stream",
          "text": [
            "3823\n"
          ],
          "name": "stdout"
        }
      ]
    },
    {
      "cell_type": "code",
      "metadata": {
        "colab": {
          "base_uri": "https://localhost:8080/"
        },
        "id": "Q4NmTkgAPquv",
        "outputId": "b21f1631-9b77-4ea1-ab13-3e9f90bbf838"
      },
      "source": [
        "#in optdigits.tes 65th column is label\r\n",
        "count=0\r\n",
        "x_test=[]\r\n",
        "y_test=[]\r\n",
        "for i in x2:\r\n",
        "    x=[]\r\n",
        "    for j in i:\r\n",
        "        count=count+1\r\n",
        "        if count<65:\r\n",
        "            x.append(j)\r\n",
        "        elif count==65:\r\n",
        "            y_test.append(j)\r\n",
        "            x_test.append(x)\r\n",
        "            count=0\r\n",
        "print(len(x_test))"
      ],
      "execution_count": null,
      "outputs": [
        {
          "output_type": "stream",
          "text": [
            "1797\n"
          ],
          "name": "stdout"
        }
      ]
    },
    {
      "cell_type": "code",
      "metadata": {
        "colab": {
          "base_uri": "https://localhost:8080/"
        },
        "id": "S0vi611x_4n0",
        "outputId": "ca887927-7b06-4310-a104-dbe8b9e67acd"
      },
      "source": [
        "#findout optimal parameters for gausian SVM\r\n",
        "param_grid=[\r\n",
        "    {'C' : [0.5,1,10,100,1000],\r\n",
        "     'gamma':['scale', 1, 0.1, 0.01, 0.001, 0.001],\r\n",
        "     'kernel':['rbf'] },\r\n",
        "]\r\n",
        "optimal_params= GridSearchCV(\r\n",
        "    SVC(),\r\n",
        "    param_grid,\r\n",
        "    cv=5,\r\n",
        "    scoring='accuracy',\r\n",
        "\r\n",
        ")\r\n",
        "optimal_params.fit(x_train, y_train)\r\n",
        "print(optimal_params.best_params_)"
      ],
      "execution_count": null,
      "outputs": [
        {
          "output_type": "stream",
          "text": [
            "{'C': 10, 'gamma': 0.001, 'kernel': 'rbf'}\n"
          ],
          "name": "stdout"
        }
      ]
    },
    {
      "cell_type": "code",
      "metadata": {
        "colab": {
          "base_uri": "https://localhost:8080/"
        },
        "id": "lRkCDGrWPstf",
        "outputId": "edbf64c8-be0f-4f61-f213-4fe92c8ce3fe"
      },
      "source": [
        "#create a gaussian classifier\r\n",
        "clf=svm.SVC(gamma=0.001,C=10)\r\n",
        "clf.fit(x_train,y_train)"
      ],
      "execution_count": null,
      "outputs": [
        {
          "output_type": "execute_result",
          "data": {
            "text/plain": [
              "SVC(C=10, break_ties=False, cache_size=200, class_weight=None, coef0=0.0,\n",
              "    decision_function_shape='ovr', degree=3, gamma=0.001, kernel='rbf',\n",
              "    max_iter=-1, probability=False, random_state=None, shrinking=True,\n",
              "    tol=0.001, verbose=False)"
            ]
          },
          "metadata": {
            "tags": []
          },
          "execution_count": 53
        }
      ]
    },
    {
      "cell_type": "code",
      "metadata": {
        "colab": {
          "base_uri": "https://localhost:8080/",
          "height": 297
        },
        "id": "ZUSsTxFLPwvV",
        "outputId": "15c9461f-e591-4b85-8daa-a0edf79b459e"
      },
      "source": [
        "#plotting confusion matrix\r\n",
        "plot_confusion_matrix(clf,\r\n",
        "                      x_test,\r\n",
        "                      y_test,\r\n",
        "                      values_format='d',\r\n",
        "                     )"
      ],
      "execution_count": null,
      "outputs": [
        {
          "output_type": "execute_result",
          "data": {
            "text/plain": [
              "<sklearn.metrics._plot.confusion_matrix.ConfusionMatrixDisplay at 0x7f9b4ef81128>"
            ]
          },
          "metadata": {
            "tags": []
          },
          "execution_count": 54
        },
        {
          "output_type": "display_data",
          "data": {
            "image/png": "[encoded data removed]",
            "text/plain": [
              "<Figure size 432x288 with 2 Axes>"
            ]
          },
          "metadata": {
            "tags": [],
            "needs_background": "light"
          }
        }
      ]
    },
    {
      "cell_type": "code",
      "metadata": {
        "colab": {
          "base_uri": "https://localhost:8080/",
          "height": 447
        },
        "id": "yJBllwNOP0gd",
        "outputId": "2e2b06f5-6164-47bb-c12f-e93a2d887710"
      },
      "source": [
        "#showing related data of 1stimage \r\n",
        "z=x_test[0]\r\n",
        "x11=np.array(z)\r\n",
        "x1_new=x11.reshape(8,8)\r\n",
        "print(x1_new)\r\n",
        "print(len(x1_new))\r\n",
        "plt.imshow(x1_new,cmap=plt.cm.gray_r,interpolation=\"nearest\")"
      ],
      "execution_count": null,
      "outputs": [
        {
          "output_type": "stream",
          "text": [
            "[[ 0.  0.  5. 13.  9.  1.  0.  0.]\n",
            " [ 0.  0. 13. 15. 10. 15.  5.  0.]\n",
            " [ 0.  3. 15.  2.  0. 11.  8.  0.]\n",
            " [ 0.  4. 12.  0.  0.  8.  8.  0.]\n",
            " [ 0.  5.  8.  0.  0.  9.  8.  0.]\n",
            " [ 0.  4. 11.  0.  1. 12.  7.  0.]\n",
            " [ 0.  2. 14.  5. 10. 12.  0.  0.]\n",
            " [ 0.  0.  6. 13. 10.  0.  0.  0.]]\n",
            "8\n"
          ],
          "name": "stdout"
        },
        {
          "output_type": "execute_result",
          "data": {
            "text/plain": [
              "<matplotlib.image.AxesImage at 0x7f9b440f86d8>"
            ]
          },
          "metadata": {
            "tags": []
          },
          "execution_count": 75
        },
        {
          "output_type": "display_data",
          "data": {
            "image/png": "[encoded data removed]",
            "text/plain": [
              "<Figure size 432x288 with 1 Axes>"
            ]
          },
          "metadata": {
            "tags": [],
            "needs_background": "light"
          }
        }
      ]
    },
    {
      "cell_type": "code",
      "metadata": {
        "colab": {
          "base_uri": "https://localhost:8080/"
        },
        "id": "fphorYvXP5Q1",
        "outputId": "658a54b4-7da2-4743-900c-af9749cf71ca"
      },
      "source": [
        "#predictions of testing data\r\n",
        "y_prediction=[]\r\n",
        "for q in x_test:\r\n",
        "    x=clf.predict([q])\r\n",
        "    y_prediction.append(x[0])\r\n",
        "#print(y_prediction[0])\r\n",
        "#print(y_test[0])\r\n",
        "print('accuracy percentage:',100*accuracy_score(y_test, y_prediction,normalize=True))\r\n",
        "print('no of correct predictions:',accuracy_score(y_test, y_prediction,normalize=False))"
      ],
      "execution_count": null,
      "outputs": [
        {
          "output_type": "stream",
          "text": [
            "accuracy percentage: 98.27490261547022\n",
            "no of correct predictions: 1766\n"
          ],
          "name": "stdout"
        }
      ]
    },
    {
      "cell_type": "code",
      "metadata": {
        "colab": {
          "base_uri": "https://localhost:8080/",
          "height": 297
        },
        "id": "5YLfudbsTRxV",
        "outputId": "f39f3106-359f-4005-b65b-e6cd633d1668"
      },
      "source": [
        "#creating a k-nearest neighbour classifier\r\n",
        "knn = KNeighborsClassifier(n_neighbors=5)\r\n",
        "knn.fit(x_train, y_train)\r\n",
        "#Predict the response for test dataset\r\n",
        "y_pred = knn.predict(x_test)\r\n",
        "#plot confusion matrix\r\n",
        "plot_confusion_matrix(clf,\r\n",
        "                      x_test,\r\n",
        "                      y_test,\r\n",
        "                      values_format='d',\r\n",
        "                     )\r\n",
        "accuracy_score(y_test, y_pred,normalize=False)"
      ],
      "execution_count": null,
      "outputs": [
        {
          "output_type": "execute_result",
          "data": {
            "text/plain": [
              "1759"
            ]
          },
          "metadata": {
            "tags": []
          },
          "execution_count": 77
        },
        {
          "output_type": "display_data",
          "data": {
            "image/png": "[encoded data removed]",
            "text/plain": [
              "<Figure size 432x288 with 2 Axes>"
            ]
          },
          "metadata": {
            "tags": [],
            "needs_background": "light"
          }
        }
      ]
    },
    {
      "cell_type": "code",
      "metadata": {
        "colab": {
          "base_uri": "https://localhost:8080/"
        },
        "id": "E-32l96AVCNy",
        "outputId": "d3cced14-8cb8-4bf1-bf51-6d5832097769"
      },
      "source": [
        "#checking the accuracies for different values of k\r\n",
        "for i in range(1,15):\r\n",
        "  knn = KNeighborsClassifier(n_neighbors=i)\r\n",
        "  knn.fit(x_train, y_train)\r\n",
        "  y_pred = knn.predict(x_test)\r\n",
        "  c=accuracy_score(y_test, y_pred,normalize=True)\r\n",
        "  d=accuracy_score(y_test,  y_pred,normalize=False)\r\n",
        "  print(' value of k:',i,'accuracy:',c,'no of correct predictions:',d)"
      ],
      "execution_count": null,
      "outputs": [
        {
          "output_type": "stream",
          "text": [
            " value of k: 1 accuracy: 0.9799666110183639 no of correct predictions: 1761\n",
            " value of k: 2 accuracy: 0.9738452977184195 no of correct predictions: 1750\n",
            " value of k: 3 accuracy: 0.9782971619365609 no of correct predictions: 1758\n",
            " value of k: 4 accuracy: 0.9766277128547579 no of correct predictions: 1755\n",
            " value of k: 5 accuracy: 0.9788536449638287 no of correct predictions: 1759\n",
            " value of k: 6 accuracy: 0.9777406789092933 no of correct predictions: 1757\n",
            " value of k: 7 accuracy: 0.9766277128547579 no of correct predictions: 1755\n",
            " value of k: 8 accuracy: 0.9766277128547579 no of correct predictions: 1755\n",
            " value of k: 9 accuracy: 0.9771841958820257 no of correct predictions: 1756\n",
            " value of k: 10 accuracy: 0.9755147468002225 no of correct predictions: 1753\n",
            " value of k: 11 accuracy: 0.9794101279910963 no of correct predictions: 1760\n",
            " value of k: 12 accuracy: 0.9744017807456873 no of correct predictions: 1751\n",
            " value of k: 13 accuracy: 0.9738452977184195 no of correct predictions: 1750\n",
            " value of k: 14 accuracy: 0.9716193656093489 no of correct predictions: 1746\n"
          ],
          "name": "stdout"
        }
      ]
    },
    {
      "cell_type": "code",
      "metadata": {
        "id": "NVRpFZyxUWEn"
      },
      "source": [
        "scaler = StandardScaler()# Fit on training set only.\r\n",
        "scaler.fit(x_train)# Apply transform to both the training set and the test set.\r\n",
        "train_img = scaler.transform(x_train)\r\n",
        "test_img = scaler.transform(x_test)"
      ],
      "execution_count": null,
      "outputs": []
    },
    {
      "cell_type": "code",
      "metadata": {
        "id": "7U5M5Tu2Vt-0"
      },
      "source": [
        "from sklearn.decomposition import PCA# Make an instance of the Model\r\n",
        "pca = PCA(.95)"
      ],
      "execution_count": null,
      "outputs": []
    },
    {
      "cell_type": "code",
      "metadata": {
        "colab": {
          "base_uri": "https://localhost:8080/"
        },
        "id": "HO-GCXeOVyS5",
        "outputId": "b5747749-8b81-4a38-cd2a-73a3ed285c3f"
      },
      "source": [
        "pca.fit(train_img)#training data only"
      ],
      "execution_count": null,
      "outputs": [
        {
          "output_type": "execute_result",
          "data": {
            "text/plain": [
              "PCA(copy=True, iterated_power='auto', n_components=0.95, random_state=None,\n",
              "    svd_solver='auto', tol=0.0, whiten=False)"
            ]
          },
          "metadata": {
            "tags": []
          },
          "execution_count": 82
        }
      ]
    },
    {
      "cell_type": "code",
      "metadata": {
        "id": "V8OrjQaqV2i3"
      },
      "source": [
        "train_img = pca.transform(train_img)\r\n",
        "test_img = pca.transform(test_img)"
      ],
      "execution_count": null,
      "outputs": []
    },
    {
      "cell_type": "code",
      "metadata": {
        "colab": {
          "base_uri": "https://localhost:8080/"
        },
        "id": "0fi9An8xV6vP",
        "outputId": "7dc6289d-1a2c-4fd4-a4cc-7e4b4dbc71fb"
      },
      "source": [
        "clf1=svm.SVC(gamma=0.001,C=10)\r\n",
        "clf1.fit(train_img,y_train)"
      ],
      "execution_count": null,
      "outputs": [
        {
          "output_type": "execute_result",
          "data": {
            "text/plain": [
              "SVC(C=10, break_ties=False, cache_size=200, class_weight=None, coef0=0.0,\n",
              "    decision_function_shape='ovr', degree=3, gamma=0.001, kernel='rbf',\n",
              "    max_iter=-1, probability=False, random_state=None, shrinking=True,\n",
              "    tol=0.001, verbose=False)"
            ]
          },
          "metadata": {
            "tags": []
          },
          "execution_count": 84
        }
      ]
    },
    {
      "cell_type": "code",
      "metadata": {
        "colab": {
          "base_uri": "https://localhost:8080/"
        },
        "id": "yJ9SW_HsWqEh",
        "outputId": "bd2ad252-87db-4adb-8b21-511d62882f82"
      },
      "source": [
        "print(test_img[0])#to see how many features comes under 95% variance"
      ],
      "execution_count": null,
      "outputs": [
        {
          "output_type": "stream",
          "text": [
            "[ 1.41486941 -1.44124599  4.2293756   1.91743401  0.40347585  0.17446024\n",
            "  0.30247772 -1.4313465   0.12239598 -0.33822336 -1.14402     0.53209417\n",
            "  0.13894315  0.20551207 -0.08137354 -0.27878808 -0.7334125   0.32093778\n",
            "  0.15764024  0.47691036  0.24188298  0.53248189  0.52759574 -0.06290417\n",
            " -0.01674341  0.22595823  0.979749    0.01668102  0.55654265 -0.19055962\n",
            "  0.0116634  -0.25010893 -0.53652301 -0.87263603 -0.11539865  0.16735476\n",
            "  0.15236395  0.23424327  0.24068952 -0.41091758 -0.11940283]\n"
          ],
          "name": "stdout"
        }
      ]
    },
    {
      "cell_type": "code",
      "metadata": {
        "colab": {
          "base_uri": "https://localhost:8080/"
        },
        "id": "jQnCU2AlXOIA",
        "outputId": "dbfe900e-e964-47eb-d5d4-04787394d9e9"
      },
      "source": [
        "#predictions on testing data\r\n",
        "y_img_prediction=[]\r\n",
        "for q in test_img:\r\n",
        "    x=clf1.predict([q])\r\n",
        "    y_img_prediction.append(x[0])\r\n",
        "\r\n",
        "#print(len(y_img_prediction))\r\n",
        "#print(y_img_prediction[0])\r\n",
        "print('accuracy:',100*accuracy_score(y_test, y_img_prediction,normalize=True))\r\n",
        "print('no of correct predictions:',accuracy_score(y_test, y_img_prediction,normalize=False))"
      ],
      "execution_count": null,
      "outputs": [
        {
          "output_type": "stream",
          "text": [
            "accuracy: 95.82637729549248\n",
            "no of correct predictions: 1722\n"
          ],
          "name": "stdout"
        }
      ]
    }
  ]
}